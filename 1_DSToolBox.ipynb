{
  "nbformat": 4,
  "nbformat_minor": 0,
  "metadata": {
    "colab": {
      "provenance": [],
      "authorship_tag": "ABX9TyM6QF5Uq4fZRkHi8KKmBJ06",
      "include_colab_link": true
    },
    "kernelspec": {
      "name": "python3",
      "display_name": "Python 3"
    },
    "language_info": {
      "name": "python"
    }
  },
  "cells": [
    {
      "cell_type": "markdown",
      "metadata": {
        "id": "view-in-github",
        "colab_type": "text"
      },
      "source": [
        "<a href=\"https://colab.research.google.com/github/VitikaJain25/DSToolBox/blob/main/1_DSToolBox.ipynb\" target=\"_parent\"><img src=\"https://colab.research.google.com/assets/colab-badge.svg\" alt=\"Open In Colab\"/></a>"
      ]
    },
    {
      "cell_type": "markdown",
      "source": [
        "Functions:\n",
        "\n",
        "\n",
        "*   Built in functions\n",
        "*   User defined function\n",
        "        *   Functions with no parameters\n",
        "        *   Functions with paratmeters\n",
        "        *   Functions that return value\n",
        "        *   Functions - multiple parameters, multiple return value\n",
        "\n"
      ],
      "metadata": {
        "id": "fL3bZNFzMgCA"
      }
    },
    {
      "cell_type": "code",
      "execution_count": null,
      "metadata": {
        "colab": {
          "base_uri": "https://localhost:8080/"
        },
        "id": "4lT-d_KFMYFk",
        "outputId": "2482a91e-3b4f-4f6a-970d-625177854344"
      },
      "outputs": [
        {
          "output_type": "stream",
          "name": "stdout",
          "text": [
            "5\n",
            "<class 'int'>\n",
            "5\n",
            "<class 'str'>\n"
          ]
        }
      ],
      "source": [
        "# Built In Function - str()\n",
        "x = 5\n",
        "print(x)\n",
        "print(type(x))\n",
        "\n",
        "x = str(5)\n",
        "print(x)\n",
        "print(type(x))"
      ]
    },
    {
      "cell_type": "markdown",
      "source": [
        "Defining own function"
      ],
      "metadata": {
        "id": "sY2tQowvN2A4"
      }
    },
    {
      "cell_type": "code",
      "source": [
        "# With no parameter and no return\n",
        "\n",
        "def square():  # Function header\n",
        "  new_value = 4 ** 2.  # Function body\n",
        "  print(new_value)\n",
        "\n",
        "square()   # Calling function"
      ],
      "metadata": {
        "colab": {
          "base_uri": "https://localhost:8080/"
        },
        "id": "bYXMONnyNqCa",
        "outputId": "a4c6e736-c088-4374-d85b-7c2e08fa0fdc"
      },
      "execution_count": null,
      "outputs": [
        {
          "output_type": "stream",
          "name": "stdout",
          "text": [
            "16\n"
          ]
        }
      ]
    },
    {
      "cell_type": "code",
      "source": [
        "# Function with Parameters\n",
        "\n",
        "def square(value):\n",
        "  new_value = value ** 2\n",
        "  print(new_value)\n",
        "\n",
        "square(4)"
      ],
      "metadata": {
        "colab": {
          "base_uri": "https://localhost:8080/"
        },
        "id": "AEanaDngN6tB",
        "outputId": "b649709d-fce5-4695-c4dd-b70529848120"
      },
      "execution_count": null,
      "outputs": [
        {
          "output_type": "stream",
          "name": "stdout",
          "text": [
            "16\n"
          ]
        }
      ]
    },
    {
      "cell_type": "markdown",
      "source": [
        "# Parameters VS Arguments\n",
        "When we **define** a function, we call it parameter.\n",
        "\n",
        "When we **call** a function, we call it arguments."
      ],
      "metadata": {
        "id": "sgNbOfTDPkej"
      }
    },
    {
      "cell_type": "code",
      "source": [
        "def square(value):  # Parameter\n",
        "  new_value = value ** 2\n",
        "  return(new_value)\n",
        "\n",
        "square(4) # Argument"
      ],
      "metadata": {
        "id": "vI48oy2sQle9"
      },
      "execution_count": null,
      "outputs": []
    },
    {
      "cell_type": "code",
      "source": [
        "# Function with return\n",
        "def square(value):\n",
        "  new_value = value ** 2\n",
        "  return(new_value)\n",
        "\n",
        "square(4)"
      ],
      "metadata": {
        "colab": {
          "base_uri": "https://localhost:8080/"
        },
        "id": "VYticLZeOQO6",
        "outputId": "874c9eff-44f1-4c89-d93f-ddeafc236303"
      },
      "execution_count": null,
      "outputs": [
        {
          "output_type": "execute_result",
          "data": {
            "text/plain": [
              "16"
            ]
          },
          "metadata": {},
          "execution_count": 9
        }
      ]
    },
    {
      "cell_type": "markdown",
      "source": [
        "DOCSTRINGS:\n",
        "\n",
        "\n",
        "*   Documentation of your own function\n",
        "*   Describes what your function does\n",
        "*   Placed in immediate line after function header\n",
        "*   In between triple double quotes\n",
        "\n",
        "\n",
        "\n",
        "\n",
        "\n"
      ],
      "metadata": {
        "id": "0dMKRafvOe1_"
      }
    },
    {
      "cell_type": "code",
      "source": [
        "def square(value):\n",
        "  \"\"\" Returns square of a value \"\"\"\n",
        "  new_value = value ** 2\n",
        "  return(new_value)\n",
        "\n",
        "square(4)\n",
        "square()\n",
        "# We can read the function documentation by hovering between ()"
      ],
      "metadata": {
        "colab": {
          "base_uri": "https://localhost:8080/"
        },
        "id": "neYBDjq4O4TH",
        "outputId": "9e848797-4274-466b-d734-7c2f32a2113e"
      },
      "execution_count": null,
      "outputs": [
        {
          "output_type": "execute_result",
          "data": {
            "text/plain": [
              "16"
            ]
          },
          "metadata": {},
          "execution_count": 10
        }
      ]
    },
    {
      "cell_type": "markdown",
      "source": [
        "Exercise:\n",
        "Function which prints\n",
        "\n",
        "There is 1 item in the list.\n",
        "\n",
        "There are 2 items in the list.\n",
        "\n",
        "There are 3 items in the list."
      ],
      "metadata": {
        "id": "soplvm2sWlsN"
      }
    },
    {
      "cell_type": "code",
      "source": [
        "# Method 1\n",
        "count = 2\n",
        "print(f'There {\"is\" if count == 1 else \"are\"} {count} item{\"s\" if count > 1 else \"\"} in the list')"
      ],
      "metadata": {
        "colab": {
          "base_uri": "https://localhost:8080/"
        },
        "id": "275dAVVWTs7J",
        "outputId": "2e67d8f3-8389-42f0-98b1-a63a258714fe"
      },
      "execution_count": null,
      "outputs": [
        {
          "output_type": "stream",
          "name": "stdout",
          "text": [
            "There are 2 items in the list\n"
          ]
        }
      ]
    },
    {
      "cell_type": "code",
      "source": [
        "# Method 2\n",
        "count = 1\n",
        "print(f'There {\"is\" if count == 1 else \"are\"} {count} item{\"s\" * (count != 1)} in the list')"
      ],
      "metadata": {
        "colab": {
          "base_uri": "https://localhost:8080/"
        },
        "id": "kgAetcuiVh4r",
        "outputId": "640be519-f1db-470b-8969-0249965237ab"
      },
      "execution_count": null,
      "outputs": [
        {
          "output_type": "stream",
          "name": "stdout",
          "text": [
            "There is 1 item in the list\n"
          ]
        }
      ]
    },
    {
      "cell_type": "code",
      "source": [
        "# Function without parameter\n",
        "def shout():\n",
        "  shout_word = \"Congratulations\" + \"!!!\"\n",
        "  print(shout_word)\n",
        "\n",
        "shout()"
      ],
      "metadata": {
        "colab": {
          "base_uri": "https://localhost:8080/"
        },
        "id": "2pp6kZwOXLRJ",
        "outputId": "c2e5ddc5-5191-456d-d6ab-988ba5562408"
      },
      "execution_count": null,
      "outputs": [
        {
          "output_type": "stream",
          "name": "stdout",
          "text": [
            "Congratulations!!!\n"
          ]
        }
      ]
    },
    {
      "cell_type": "code",
      "source": [
        "# Function with parameter\n",
        "def shout(word):\n",
        "  shout_word = word + \"!!!\"\n",
        "  print(shout_word)\n",
        "\n",
        "shout(\"Congratulations\")"
      ],
      "metadata": {
        "colab": {
          "base_uri": "https://localhost:8080/"
        },
        "id": "sVozQpFfX-9k",
        "outputId": "f4908e5e-3e02-4826-d38d-ec92d0121b00"
      },
      "execution_count": null,
      "outputs": [
        {
          "output_type": "stream",
          "name": "stdout",
          "text": [
            "Congratulations!!!\n"
          ]
        }
      ]
    },
    {
      "cell_type": "code",
      "source": [
        "# Function with parameter and return value\n",
        "def shout(word):\n",
        "  shout_word = word + \"!!!\"\n",
        "  return(shout_word)\n",
        "\n",
        "yell = shout(\"Congratulations\")\n",
        "print(yell)"
      ],
      "metadata": {
        "colab": {
          "base_uri": "https://localhost:8080/"
        },
        "id": "n_ipcSmdYgHs",
        "outputId": "07351662-3390-4699-89e9-2f0452e85e51"
      },
      "execution_count": null,
      "outputs": [
        {
          "output_type": "stream",
          "name": "stdout",
          "text": [
            "Congratulations!!!\n"
          ]
        }
      ]
    },
    {
      "cell_type": "code",
      "source": [
        "# Data types\n",
        "# Print function returns none type\n",
        "x = 5\n",
        "y = str(x)\n",
        "z = print(x)\n",
        "\n",
        "print(type(x))\n",
        "print(type(y))\n",
        "print(type(z))"
      ],
      "metadata": {
        "colab": {
          "base_uri": "https://localhost:8080/"
        },
        "id": "--bmtO0DY6Lv",
        "outputId": "77ebf614-479e-43f5-8a1c-6b8ad9985e06"
      },
      "execution_count": null,
      "outputs": [
        {
          "output_type": "stream",
          "name": "stdout",
          "text": [
            "5\n",
            "<class 'int'>\n",
            "<class 'str'>\n",
            "<class 'NoneType'>\n"
          ]
        }
      ]
    }
  ]
}